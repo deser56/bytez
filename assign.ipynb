{
  "cells": [
    {
      "cell_type": "markdown",
      "metadata": {
        "id": "view-in-github",
        "colab_type": "text"
      },
      "source": [
        "<a href=\"https://colab.research.google.com/github/deser56/bytez/blob/main/assign.ipynb\" target=\"_parent\"><img src=\"https://colab.research.google.com/assets/colab-badge.svg\" alt=\"Open In Colab\"/></a>"
      ]
    },
    {
      "cell_type": "code",
      "execution_count": null,
      "metadata": {
        "id": "wNuuzoxAyxXw"
      },
      "outputs": [],
      "source": [
        "import pandas as pd\n",
        "\n",
        "df = pd.read_csv(\"C:\\\\Users\\\\user\\\\Downloads\\\\telecom_users.csv\" ,index_col=0)"
      ]
    },
    {
      "cell_type": "code",
      "execution_count": null,
      "metadata": {
        "id": "KCbzweN2yxX4",
        "outputId": "4c6c9ab1-dfbe-4f4d-efe6-35f439c2fd68"
      },
      "outputs": [
        {
          "name": "stdout",
          "output_type": "stream",
          "text": [
            "      customerID  gender  SeniorCitizen Partner Dependents  tenure  \\\n",
            "1869  7010-BRBUU    Male              0     Yes        Yes      72   \n",
            "4528  9688-YGXVR  Female              0      No         No      44   \n",
            "6344  9286-DOJGF  Female              1     Yes         No      38   \n",
            "6739  6994-KERXL    Male              0      No         No       4   \n",
            "432   2181-UAESM    Male              0      No         No       2   \n",
            "\n",
            "     PhoneService MultipleLines InternetService       OnlineSecurity  ...  \\\n",
            "1869          Yes           Yes              No  No internet service  ...   \n",
            "4528          Yes            No     Fiber optic                   No  ...   \n",
            "6344          Yes           Yes     Fiber optic                   No  ...   \n",
            "6739          Yes            No             DSL                   No  ...   \n",
            "432           Yes            No             DSL                  Yes  ...   \n",
            "\n",
            "         DeviceProtection          TechSupport          StreamingTV  \\\n",
            "1869  No internet service  No internet service  No internet service   \n",
            "4528                  Yes                   No                  Yes   \n",
            "6344                   No                   No                   No   \n",
            "6739                   No                   No                   No   \n",
            "432                   Yes                   No                   No   \n",
            "\n",
            "          StreamingMovies        Contract PaperlessBilling  \\\n",
            "1869  No internet service        Two year               No   \n",
            "4528                   No  Month-to-month              Yes   \n",
            "6344                   No  Month-to-month              Yes   \n",
            "6739                  Yes  Month-to-month              Yes   \n",
            "432                    No  Month-to-month               No   \n",
            "\n",
            "                  PaymentMethod MonthlyCharges  TotalCharges Churn  \n",
            "1869    Credit card (automatic)          24.10       1734.65    No  \n",
            "4528    Credit card (automatic)          88.15        3973.2    No  \n",
            "6344  Bank transfer (automatic)          74.95       2869.85   Yes  \n",
            "6739           Electronic check          55.90         238.5    No  \n",
            "432            Electronic check          53.45         119.5    No  \n",
            "\n",
            "[5 rows x 21 columns]\n",
            "2\n"
          ]
        }
      ],
      "source": [
        "print(df.head())\n",
        "print(df.ndim)"
      ]
    },
    {
      "cell_type": "code",
      "execution_count": null,
      "metadata": {
        "id": "bRlJPdJJyxX7",
        "outputId": "3ed71260-2b37-44e0-8b37-8dcbe6c9f749"
      },
      "outputs": [
        {
          "name": "stdout",
          "output_type": "stream",
          "text": [
            "1869    0\n",
            "4528    0\n",
            "6344    1\n",
            "6739    0\n",
            "432     0\n",
            "       ..\n",
            "3772    1\n",
            "5191    0\n",
            "5226    0\n",
            "5390    1\n",
            "860     0\n",
            "Name: Churn, Length: 5986, dtype: int32\n"
          ]
        }
      ],
      "source": [
        "#df.Churn.replace(to_replace=dict(Yes=1,No=0),inplace=True)\n",
        "from sklearn import preprocessing \n",
        "label = preprocessing.LabelEncoder() \n",
        " \n",
        "df['Churn']= label.fit_transform(df['Churn']) \n",
        "print(df['Churn'])\n",
        " "
      ]
    },
    {
      "cell_type": "code",
      "execution_count": null,
      "metadata": {
        "id": "BLDVFCl1yxX-",
        "outputId": "2fae7671-5120-4a70-ed97-62805f1bdd40"
      },
      "outputs": [
        {
          "name": "stdout",
          "output_type": "stream",
          "text": [
            "      SeniorCitizen  tenure  MonthlyCharges  Churn  customerID_0002-ORFBO  \\\n",
            "1869              0      72           24.10      0                      0   \n",
            "4528              0      44           88.15      0                      0   \n",
            "6344              1      38           74.95      1                      0   \n",
            "6739              0       4           55.90      0                      0   \n",
            "432               0       2           53.45      0                      0   \n",
            "\n",
            "      customerID_0003-MKNFE  customerID_0004-TLHLJ  customerID_0011-IGKFF  \\\n",
            "1869                      0                      0                      0   \n",
            "4528                      0                      0                      0   \n",
            "6344                      0                      0                      0   \n",
            "6739                      0                      0                      0   \n",
            "432                       0                      0                      0   \n",
            "\n",
            "      customerID_0013-EXCHZ  customerID_0013-MHZWF  ...  TotalCharges_992.7  \\\n",
            "1869                      0                      0  ...                   0   \n",
            "4528                      0                      0  ...                   0   \n",
            "6344                      0                      0  ...                   0   \n",
            "6739                      0                      0  ...                   0   \n",
            "432                       0                      0  ...                   0   \n",
            "\n",
            "      TotalCharges_994.55  TotalCharges_994.8  TotalCharges_995.35  \\\n",
            "1869                    0                   0                    0   \n",
            "4528                    0                   0                    0   \n",
            "6344                    0                   0                    0   \n",
            "6739                    0                   0                    0   \n",
            "432                     0                   0                    0   \n",
            "\n",
            "      TotalCharges_996.85  TotalCharges_996.95  TotalCharges_998.1  \\\n",
            "1869                    0                    0                   0   \n",
            "4528                    0                    0                   0   \n",
            "6344                    0                    0                   0   \n",
            "6739                    0                    0                   0   \n",
            "432                     0                    0                   0   \n",
            "\n",
            "      TotalCharges_999.45  TotalCharges_999.8  TotalCharges_999.9  \n",
            "1869                    0                   0                   0  \n",
            "4528                    0                   0                   0  \n",
            "6344                    0                   0                   0  \n",
            "6739                    0                   0                   0  \n",
            "432                     0                   0                   0  \n",
            "\n",
            "[5 rows x 11642 columns]\n"
          ]
        }
      ],
      "source": [
        "#df = df.apply(pd.to_numeric, errors='ignore')\n",
        "df = pd.get_dummies(df)\n",
        "\n",
        "\n",
        "  \n",
        "print(df.head())"
      ]
    },
    {
      "cell_type": "code",
      "execution_count": null,
      "metadata": {
        "id": "ta5iQBCGyxX_",
        "outputId": "1e9de2bc-9fc9-4d46-dd34-0aa0749bfcdb"
      },
      "outputs": [
        {
          "name": "stdout",
          "output_type": "stream",
          "text": [
            "1869    0\n",
            "4528    0\n",
            "6344    1\n",
            "6739    0\n",
            "432     0\n",
            "       ..\n",
            "3772    1\n",
            "5191    0\n",
            "5226    0\n",
            "5390    1\n",
            "860     0\n",
            "Name: Churn, Length: 5986, dtype: int32\n"
          ]
        }
      ],
      "source": [
        "print(df[\"Churn\"])"
      ]
    },
    {
      "cell_type": "code",
      "execution_count": null,
      "metadata": {
        "id": "naZ_NvyDyxYA",
        "outputId": "17cf3e0b-5528-4795-abcb-04954835a66d"
      },
      "outputs": [
        {
          "data": {
            "text/plain": [
              "0    0.734881\n",
              "1    0.265119\n",
              "Name: Churn, dtype: float64"
            ]
          },
          "execution_count": 7,
          "metadata": {},
          "output_type": "execute_result"
        }
      ],
      "source": [
        "df[\"Churn\"].value_counts(normalize=True)"
      ]
    },
    {
      "cell_type": "code",
      "execution_count": null,
      "metadata": {
        "id": "DldgR2p5yxYC",
        "outputId": "0a529cde-e313-4f29-f23b-cbf069f11a39"
      },
      "outputs": [
        {
          "name": "stdout",
          "output_type": "stream",
          "text": [
            "No. of training examples: 3591\n",
            "No. of testing examples: 2395\n",
            "      SeniorCitizen  tenure  MonthlyCharges  customerID_0002-ORFBO  \\\n",
            "1869              0      72           24.10                      0   \n",
            "4528              0      44           88.15                      0   \n",
            "6344              1      38           74.95                      0   \n",
            "6739              0       4           55.90                      0   \n",
            "432               0       2           53.45                      0   \n",
            "\n",
            "      customerID_0003-MKNFE  customerID_0004-TLHLJ  customerID_0011-IGKFF  \\\n",
            "1869                      0                      0                      0   \n",
            "4528                      0                      0                      0   \n",
            "6344                      0                      0                      0   \n",
            "6739                      0                      0                      0   \n",
            "432                       0                      0                      0   \n",
            "\n",
            "      customerID_0013-EXCHZ  customerID_0013-MHZWF  customerID_0013-SMEOE  \\\n",
            "1869                      0                      0                      0   \n",
            "4528                      0                      0                      0   \n",
            "6344                      0                      0                      0   \n",
            "6739                      0                      0                      0   \n",
            "432                       0                      0                      0   \n",
            "\n",
            "      ...  TotalCharges_992.7  TotalCharges_994.55  TotalCharges_994.8  \\\n",
            "1869  ...                   0                    0                   0   \n",
            "4528  ...                   0                    0                   0   \n",
            "6344  ...                   0                    0                   0   \n",
            "6739  ...                   0                    0                   0   \n",
            "432   ...                   0                    0                   0   \n",
            "\n",
            "      TotalCharges_995.35  TotalCharges_996.85  TotalCharges_996.95  \\\n",
            "1869                    0                    0                    0   \n",
            "4528                    0                    0                    0   \n",
            "6344                    0                    0                    0   \n",
            "6739                    0                    0                    0   \n",
            "432                     0                    0                    0   \n",
            "\n",
            "      TotalCharges_998.1  TotalCharges_999.45  TotalCharges_999.8  \\\n",
            "1869                   0                    0                   0   \n",
            "4528                   0                    0                   0   \n",
            "6344                   0                    0                   0   \n",
            "6739                   0                    0                   0   \n",
            "432                    0                    0                   0   \n",
            "\n",
            "      TotalCharges_999.9  \n",
            "1869                   0  \n",
            "4528                   0  \n",
            "6344                   0  \n",
            "6739                   0  \n",
            "432                    0  \n",
            "\n",
            "[5 rows x 11641 columns]\n"
          ]
        }
      ],
      "source": [
        "from sklearn.model_selection import train_test_split\n",
        "\n",
        "\n",
        "\n",
        "newdf= df.drop(columns='Churn')\n",
        "\n",
        "training_data, testing_data = train_test_split(newdf, test_size=0.4, random_state=85)\n",
        "\n",
        "print(f\"No. of training examples: {training_data.shape[0]}\")\n",
        "print(f\"No. of testing examples: {testing_data.shape[0]}\")\n",
        "\n",
        "print(newdf.head())\n"
      ]
    },
    {
      "cell_type": "code",
      "execution_count": null,
      "metadata": {
        "id": "WlSCtZYvyxYG",
        "outputId": "3743b738-334a-4716-e751-d74cd0117d2d"
      },
      "outputs": [
        {
          "name": "stdout",
          "output_type": "stream",
          "text": [
            "{'max_depth': [None, 10, 20], 'max_features': ['auto', None], 'n_estimators': [100, 200, 300], 'random_state': [85]}\n"
          ]
        }
      ],
      "source": [
        "#tuning the model\n",
        "\n",
        "from sklearn.model_selection import GridSearchCV\n",
        "from sklearn.ensemble import RandomForestClassifier\n",
        "import warnings\n",
        "warnings.filterwarnings('ignore')\n",
        "\n",
        "\n",
        "\n",
        "ranforest = RandomForestClassifier()\n",
        "parameters = {'max_depth' : [None, 10,20],\n",
        "              'max_features' : ['auto',None],\n",
        "              'n_estimators' :[100,200,300],\n",
        "              'random_state':[ 85 ]}\n",
        "                     #ranforest.get_params()\n",
        "print(parameters)\n",
        "clf = GridSearchCV(ranforest,                    # model\n",
        "                   param_grid = parameters,   # hyperparameters\n",
        "                   scoring='accuracy',        # metric for scoring\n",
        "                   cv=10) \n"
      ]
    },
    {
      "cell_type": "code",
      "execution_count": null,
      "metadata": {
        "id": "YW3KVsQgyxYJ"
      },
      "outputs": [],
      "source": [
        "from sklearn.model_selection import train_test_split\n",
        "\n",
        "training_datay, testing_datay = train_test_split(df[\"Churn\"], test_size=0.4, random_state=85)\n"
      ]
    },
    {
      "cell_type": "code",
      "execution_count": null,
      "metadata": {
        "id": "GhiHehDUyxYK",
        "outputId": "7c5490bb-ba3f-4a3d-c4a5-e8f61eeb708f"
      },
      "outputs": [
        {
          "data": {
            "text/plain": [
              "RandomForestClassifier()"
            ]
          },
          "execution_count": 11,
          "metadata": {},
          "output_type": "execute_result"
        }
      ],
      "source": [
        "ranforest.fit(training_data,training_datay)"
      ]
    },
    {
      "cell_type": "code",
      "execution_count": null,
      "metadata": {
        "id": "X7Yuec_3yxYM",
        "outputId": "f2919167-0b69-42a4-e748-98ec70d2c36b"
      },
      "outputs": [
        {
          "name": "stdout",
          "output_type": "stream",
          "text": [
            "Accuracy :  0.777035490605428\n",
            "Sensitivity :  0.9289838337182448\n",
            "Specificity :  0.38009049773755654\n",
            "precision :0.672\n",
            "balanced accuracy : 0.6545371657279007\n"
          ]
        }
      ],
      "source": [
        "from sklearn.metrics import confusion_matrix\n",
        "from sklearn.metrics import precision_score\n",
        "from sklearn.metrics import balanced_accuracy_score\n",
        "ypreddf=ranforest.predict(testing_data)\n",
        "confucious=confusion_matrix(testing_datay,ypreddf)\n",
        "total1=sum(sum(confucious))\n",
        "accuracy1=(confucious[0,0]+confucious[1,1])/total1\n",
        "print ('Accuracy : ', accuracy1)\n",
        "\n",
        "sensitivity1 = confucious[0,0]/(confucious[0,0]+confucious[0,1])\n",
        "print('Sensitivity : ', sensitivity1 )\n",
        "\n",
        "specificity1 = confucious[1,1]/(confucious[1,0]+confucious[1,1])\n",
        "print('Specificity : ', specificity1)\n",
        "\n",
        "precision=precision_score(testing_datay,ypreddf)\n",
        "print(\"precision :{}\".format(precision))\n",
        "bla=balanced_accuracy_score(testing_datay,ypreddf)\n",
        "print(\"balanced accuracy : {}\".format(bla))\n",
        "\n",
        "\n",
        "\n",
        "\n"
      ]
    },
    {
      "cell_type": "code",
      "execution_count": null,
      "metadata": {
        "id": "9hDhoHLcyxYO",
        "outputId": "4c3d18f7-f9ed-4e8e-ccb2-eeb795bb6a79"
      },
      "outputs": [
        {
          "name": "stdout",
          "output_type": "stream",
          "text": [
            "0.6601252609603341\n",
            "0.777035490605428\n"
          ]
        }
      ],
      "source": [
        "t1,t2 = train_test_split(training_datay, test_size=0.6669, random_state=85)\n",
        "\n",
        "conf1=confusion_matrix(t2,ypreddf)\n",
        "totale=sum(sum(conf1))\n",
        "accuracy1=(conf1[0,0]+conf1[1,1])/totale\n",
        "print(accuracy1)\n",
        "conf12=confusion_matrix(testing_datay,ypreddf)\n",
        "totaley=sum(sum(conf12))\n",
        "accuracy12=(conf12[0,0]+conf12[1,1])/totaley\n",
        "print(accuracy12)\n"
      ]
    },
    {
      "cell_type": "code",
      "execution_count": null,
      "metadata": {
        "id": "0T1WkO9lyxYQ",
        "outputId": "557b76e4-7089-4423-f2e7-baf5f4e755bb"
      },
      "outputs": [
        {
          "name": "stdout",
          "output_type": "stream",
          "text": [
            "[1.09358767e-02 6.94668252e-02 5.64940416e-02 ... 1.35044441e-04\n",
            " 5.90023410e-05 8.04109962e-05]\n",
            "[ 5176  5175 10479  5167  5165  5164  5155  5154  5153  5147  5145]\n"
          ]
        }
      ],
      "source": [
        "import numpy as np\n",
        "import matplotlib.pyplot as plt\n",
        "features = df[list(df.columns)]\n",
        "importances = ranforest.feature_importances_\n",
        "indices = np.argsort(importances)\n",
        "print(importances)\n",
        "print(indices[1:12])\n",
        "\n"
      ]
    },
    {
      "cell_type": "code",
      "execution_count": null,
      "metadata": {
        "id": "8nGQ8fGuyxYT",
        "outputId": "a61232ff-4dae-4456-882a-b6474e2ca559"
      },
      "outputs": [
        {
          "data": {
            "text/plain": [
              "LogisticRegression()"
            ]
          },
          "execution_count": 17,
          "metadata": {},
          "output_type": "execute_result"
        }
      ],
      "source": [
        "#logregression\n",
        "from sklearn.linear_model import LogisticRegression\n",
        "model=LogisticRegression()\n",
        "model.fit(training_data,training_datay)\n"
      ]
    },
    {
      "cell_type": "code",
      "execution_count": null,
      "metadata": {
        "id": "BNTc4MQlyxYV",
        "outputId": "e372f599-f365-44f8-ff5e-fee7264f48f3"
      },
      "outputs": [
        {
          "name": "stdout",
          "output_type": "stream",
          "text": [
            "Accuracy :  0.7837160751565762\n",
            "Sensitivity :  0.8827944572748267\n",
            "Specificity :  0.5248868778280543\n",
            "prezize :0.631578947368421\n",
            "balanced accuracy : 0.7038406675514406\n"
          ]
        }
      ],
      "source": [
        "#logregression stats\n",
        "\n",
        "from sklearn.metrics import confusion_matrix\n",
        "from sklearn.metrics import precision_score\n",
        "from sklearn.metrics import balanced_accuracy_score\n",
        "ypreddf=model.predict(testing_data)\n",
        "kongfuzi=confusion_matrix(testing_datay,ypreddf)\n",
        "totalerr=sum(sum(kongfuzi))\n",
        "accu=(kongfuzi[0,0]+kongfuzi[1,1])/totalerr\n",
        "print ('Accuracy : ', accu)\n",
        "\n",
        "sensy = kongfuzi[0,0]/(kongfuzi[0,0]+kongfuzi[0,1])\n",
        "print('Sensitivity : ', sensy )\n",
        "\n",
        "specy = kongfuzi[1,1]/(kongfuzi[1,0]+kongfuzi[1,1])\n",
        "print('Specificity : ', specy)\n",
        "\n",
        "prezize=precision_score(testing_datay,ypreddf)\n",
        "print(\"prezize :{}\".format(prezize))\n",
        "bal=balanced_accuracy_score(testing_datay,ypreddf)\n",
        "print(\"balanced accuracy : {}\".format(bal))\n",
        "\n",
        "\n",
        "\n",
        "\n"
      ]
    }
  ],
  "metadata": {
    "interpreter": {
      "hash": "247ab06e135bb35fa78c5eff31b2a9a0050dcb5fb773c2631d2a29ac689eeccb"
    },
    "kernelspec": {
      "display_name": "Python 3.9.6 64-bit",
      "language": "python",
      "name": "python3"
    },
    "language_info": {
      "codemirror_mode": {
        "name": "ipython",
        "version": 3
      },
      "file_extension": ".py",
      "mimetype": "text/x-python",
      "name": "python",
      "nbconvert_exporter": "python",
      "pygments_lexer": "ipython3",
      "version": "3.9.6"
    },
    "orig_nbformat": 4,
    "colab": {
      "name": "assign.ipynb",
      "provenance": [],
      "toc_visible": true,
      "include_colab_link": true
    }
  },
  "nbformat": 4,
  "nbformat_minor": 0
}